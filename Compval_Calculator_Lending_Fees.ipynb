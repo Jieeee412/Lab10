{
  "nbformat": 4,
  "nbformat_minor": 0,
  "metadata": {
    "colab": {
      "provenance": [],
      "authorship_tag": "ABX9TyO9c+zB/4mKHnHu95g9qHuC",
      "include_colab_link": true
    },
    "kernelspec": {
      "name": "python3",
      "display_name": "Python 3"
    },
    "language_info": {
      "name": "python"
    }
  },
  "cells": [
    {
      "cell_type": "markdown",
      "metadata": {
        "id": "view-in-github",
        "colab_type": "text"
      },
      "source": [
        "<a href=\"https://colab.research.google.com/github/Jieeee412/Lab10/blob/main/Compval_Calculator_Lending_Fees.ipynb\" target=\"_parent\"><img src=\"https://colab.research.google.com/assets/colab-badge.svg\" alt=\"Open In Colab\"/></a>"
      ]
    },
    {
      "cell_type": "code",
      "execution_count": 1,
      "metadata": {
        "id": "zGQ9_nHB2UdR"
      },
      "outputs": [],
      "source": [
        "import json\n",
        "import re\n",
        "\n",
        "with open(\"Lending fees 7.json\", \"r\") as file:\n",
        "    raw_data_7 = json.load(file)\n",
        "\n",
        "with open(\"Lending fees 8.json\", \"r\") as file:\n",
        "    raw_data_8 = json.load(file)"
      ]
    },
    {
      "cell_type": "code",
      "source": [
        "def extract_json_array(raw_text):\n",
        "    \"\"\"\n",
        "    Extracts and parses a JSON array from a raw string wrapped in \\boxed{} and/or ```json markdown.\n",
        "    Returns a Python list.\n",
        "    \"\"\"\n",
        "    if not raw_text:\n",
        "        return []\n",
        "\n",
        "    # Remove \\boxed{...} wrapper\n",
        "    boxed_match = re.search(r'\\\\boxed\\s*{(.*)}\\s*}$', raw_text.strip(), flags=re.DOTALL)\n",
        "    content = boxed_match.group(1) if boxed_match else raw_text\n",
        "\n",
        "    # Remove markdown markers like ```json\n",
        "    content = re.sub(r'```json|```', '', content, flags=re.IGNORECASE).strip()\n",
        "\n",
        "    # Extract valid JSON array using [ ... ]\n",
        "    start = content.find('[')\n",
        "    end = content.rfind(']') + 1\n",
        "    if start == -1 or end == -1:\n",
        "        print(\"⚠️ Could not find JSON array brackets.\")\n",
        "        return []\n",
        "\n",
        "    json_array_str = content[start:end]\n",
        "\n",
        "    # Parse it\n",
        "    try:\n",
        "        return json.loads(json_array_str)\n",
        "    except json.JSONDecodeError as e:\n",
        "        print(\" JSON parsing failed:\", e)\n",
        "        return []\n",
        "\n",
        "# Extract and combine\n",
        "raw_text_1 = raw_data_7.get(\"page_1\", \"\")\n",
        "raw_text_2 = raw_data_8.get(\"page_1\", \"\")\n",
        "\n",
        "fees_1 = extract_json_array(raw_text_1)\n",
        "fees_2 = extract_json_array(raw_text_2)\n",
        "\n",
        "Loan_fees = fees_1 + fees_2\n"
      ],
      "metadata": {
        "id": "4HBlOHxc2jOQ"
      },
      "execution_count": 2,
      "outputs": []
    },
    {
      "cell_type": "code",
      "source": [
        "with open(\"Loan_fees.json\", \"w\") as f:\n",
        "    json.dump(Loan_fees, f, indent=4)"
      ],
      "metadata": {
        "id": "qGIsZB2D2l0t"
      },
      "execution_count": 3,
      "outputs": []
    },
    {
      "cell_type": "code",
      "source": [
        "# Load file\n",
        "with open(\"/content/Loan_fees.json\", \"r\") as f:\n",
        "    raw_data = json.load(f)\n",
        "\n",
        "# Normalize to flat fee list\n",
        "normalized_fees = []\n",
        "\n",
        "for item in raw_data:\n",
        "    if \"fees\" in item:  # structured format\n",
        "        product_type = item.get(\"product_type\", \"Unknown\")\n",
        "        for fee in item[\"fees\"]:\n",
        "            fee[\"product_type\"] = product_type\n",
        "            normalized_fees.append(fee)\n",
        "    else:\n",
        "        normalized_fees.append(item)  # already flat\n",
        "\n",
        "print(f\" Total normalized fees: {len(normalized_fees)}\")"
      ],
      "metadata": {
        "colab": {
          "base_uri": "https://localhost:8080/"
        },
        "id": "VWVgOhW32rMv",
        "outputId": "948c0948-b590-4e67-cd04-f85e9c80cec0"
      },
      "execution_count": 4,
      "outputs": [
        {
          "output_type": "stream",
          "name": "stdout",
          "text": [
            " Total normalized fees: 13\n"
          ]
        }
      ]
    },
    {
      "cell_type": "code",
      "source": [
        "class FeeCalculator:\n",
        "    def __init__(self, fee_list):\n",
        "        self.fees = fee_list\n",
        "\n",
        "    def list_product_types(self):\n",
        "        return sorted(set(fee.get('product_type', 'Unknown') for fee in self.fees))\n",
        "\n",
        "    def list_fee_names(self):\n",
        "        return sorted(set(fee.get('fee_name', 'Unnamed') for fee in self.fees))\n",
        "\n",
        "    def get_fees_by_product_type(self, product_type):\n",
        "        return [fee for fee in self.fees if fee.get('product_type') == product_type]\n",
        "\n",
        "    def get_fee_by_name(self, fee_name):\n",
        "        return [fee for fee in self.fees if fee.get('fee_name') == fee_name]\n",
        "\n",
        "    def calculate_total_fee(self, product_type=None):\n",
        "        total = 0\n",
        "        for fee in self.fees:\n",
        "            if product_type is None or fee.get('product_type') == product_type:\n",
        "                try:\n",
        "                    amt = float(fee.get(\"amount\"))\n",
        "                    total += amt\n",
        "                except (TypeError, ValueError):\n",
        "                    pass  # Skip 'null' or 'variable'\n",
        "        return total\n",
        "\n",
        "    def show_fee_summary(self, product_type=None):\n",
        "        selected = self.get_fees_by_product_type(product_type) if product_type else self.fees\n",
        "        for fee in selected:\n",
        "            product = fee.get('product_type', 'Unknown')\n",
        "            name = fee.get('fee_name', 'Unnamed')\n",
        "            amount = fee.get('amount', 'N/A')\n",
        "            unit = fee.get('unit', 'NZD')\n",
        "            timing = fee.get('charge_timing', 'N/A')\n",
        "            conditions = fee.get('conditions', '')\n",
        "\n",
        "            print(f\" {product} → {name}: {amount} {unit} ({timing})\")\n",
        "            if conditions:\n",
        "                print(f\" {conditions}\")\n",
        "            print()"
      ],
      "metadata": {
        "id": "FasrX73A2uwQ"
      },
      "execution_count": 5,
      "outputs": []
    },
    {
      "cell_type": "code",
      "source": [
        "calc = FeeCalculator(normalized_fees)\n",
        "\n",
        "# List all product types\n",
        "print(\" Product Types:\", calc.list_product_types())\n",
        "\n",
        "# Summary for one product\n",
        "calc.show_fee_summary(\"Home Loan\")\n",
        "\n",
        "# Total of numeric-only fees\n",
        "print(\" Total for Home Loan:\", calc.calculate_total_fee(\"Home Loan\"))"
      ],
      "metadata": {
        "colab": {
          "base_uri": "https://localhost:8080/"
        },
        "id": "d8Sq6r3C2w54",
        "outputId": "38cb6a31-0579-44ed-e66c-c76ec9224c8e"
      },
      "execution_count": 6,
      "outputs": [
        {
          "output_type": "stream",
          "name": "stdout",
          "text": [
            " Product Types: ['ANZ Flexible Home Loan', 'Home Loan', 'Personal Loan', 'secured loans']\n",
            " Home Loan → Application fee (owner-occupied): None NZD (once-off)\n",
            " no charge\n",
            "\n",
            " Home Loan → Application fee (all other lending): None NZD (once-off)\n",
            " no charge\n",
            "\n",
            " Home Loan → Loan Top Up fees: None NZD (once-off)\n",
            " no charge\n",
            "\n",
            " Home Loan → Tideover application/extension fee: None NZD (once-off)\n",
            " no charge\n",
            "\n",
            " Home Loan → Early Repayment Recovery: variable NZD (event-based)\n",
            " depends on loss at the time of repayment\n",
            "\n",
            " Home Loan → Reserving a fixed interest rate: None NZD (once-off)\n",
            " no charge\n",
            "\n",
            " Home Loan → Non-utilisation fee (home lending): 25 NZD (once-off)\n",
            " applies if the reserved fixed interest rate is not utilized\n",
            "\n",
            " Home Loan → Non-utilisation recovery (business lending): variable NZD (event-based)\n",
            " depends on loss at the time of cancellation or restructure\n",
            "\n",
            " Total for Home Loan: 25.0\n"
          ]
        }
      ]
    },
    {
      "cell_type": "code",
      "source": [
        "fee_lookup = {}\n",
        "\n",
        "for fee in normalized_fees:\n",
        "    product = fee.get(\"product_type\", \"\").strip()\n",
        "    fee_name = fee.get(\"fee_name\", \"\").strip()\n",
        "    if product and fee_name:\n",
        "        fee_lookup[(product, fee_name)] = fee\n"
      ],
      "metadata": {
        "id": "4L2NiyBFIP5u"
      },
      "execution_count": 13,
      "outputs": []
    },
    {
      "cell_type": "code",
      "source": [
        "print(\"Keys in fee_lookup:\")\n",
        "for key in fee_lookup.keys():\n",
        "    print(key)"
      ],
      "metadata": {
        "colab": {
          "base_uri": "https://localhost:8080/"
        },
        "id": "RoCNiuHQV2pX",
        "outputId": "74aaef65-5172-4618-bf50-e31499dad4c4"
      },
      "execution_count": 14,
      "outputs": [
        {
          "output_type": "stream",
          "name": "stdout",
          "text": [
            "Keys in fee_lookup:\n",
            "('Home Loan', 'Application fee (owner-occupied)')\n",
            "('Home Loan', 'Application fee (all other lending)')\n",
            "('Home Loan', 'Loan Top Up fees')\n",
            "('Home Loan', 'Tideover application/extension fee')\n",
            "('Home Loan', 'Early Repayment Recovery')\n",
            "('Home Loan', 'Reserving a fixed interest rate')\n",
            "('Home Loan', 'Non-utilisation fee (home lending)')\n",
            "('Home Loan', 'Non-utilisation recovery (business lending)')\n",
            "('ANZ Flexible Home Loan', 'Monthly account fee')\n",
            "('ANZ Flexible Home Loan', 'All transaction fees (including manual transactions)')\n",
            "('ANZ Flexible Home Loan', 'Unarranged overdraft fee')\n",
            "('Personal Loan', 'Application fee (For new and top-up applications)')\n",
            "('secured loans', 'Discharge or Execution fee')\n"
          ]
        }
      ]
    },
    {
      "cell_type": "code",
      "source": [
        "import pandas as pd\n",
        "\n",
        "home_loan_df = pd.read_csv(\"Home_Loan_transactions.csv\")\n",
        "personal_loan_df = pd.read_csv(\"Personal_Loans_transaction.csv\")\n",
        "\n",
        "# Append the second DataFrame to the first\n",
        "combined_loan_df = pd.concat([home_loan_df, personal_loan_df], ignore_index=True)\n",
        "\n",
        "combined_loan_df.info()"
      ],
      "metadata": {
        "colab": {
          "base_uri": "https://localhost:8080/"
        },
        "id": "Wg-b2V7BG_RN",
        "outputId": "d25c6247-9441-4ae1-b578-08f7afca7bb6"
      },
      "execution_count": 7,
      "outputs": [
        {
          "output_type": "stream",
          "name": "stdout",
          "text": [
            "<class 'pandas.core.frame.DataFrame'>\n",
            "RangeIndex: 36816 entries, 0 to 36815\n",
            "Data columns (total 10 columns):\n",
            " #   Column              Non-Null Count  Dtype  \n",
            "---  ------              --------------  -----  \n",
            " 0   Transaction_ID      36816 non-null  object \n",
            " 1   Account_ID          36816 non-null  object \n",
            " 2   Account_Type        36816 non-null  object \n",
            " 3   Product_Type        36816 non-null  object \n",
            " 4   Transaction_Type    36816 non-null  object \n",
            " 5   Transaction_Amount  36816 non-null  float64\n",
            " 6   Transaction_Date    36816 non-null  object \n",
            " 7   Principal           36816 non-null  object \n",
            " 8   Interest            36816 non-null  object \n",
            " 9   Description         36816 non-null  object \n",
            "dtypes: float64(1), object(9)\n",
            "memory usage: 2.8+ MB\n"
          ]
        }
      ]
    },
    {
      "cell_type": "code",
      "source": [
        "combined_loan_df.Product_Type.unique()"
      ],
      "metadata": {
        "colab": {
          "base_uri": "https://localhost:8080/"
        },
        "id": "5i2OJiUQHQDt",
        "outputId": "36ca9b5a-ade3-4973-a41f-2958782eaeee"
      },
      "execution_count": 8,
      "outputs": [
        {
          "output_type": "execute_result",
          "data": {
            "text/plain": [
              "array(['Home loans_2 years', 'Home loans_4 years', 'Home loans_3 years',\n",
              "       'Home loans_18 months', 'Home loans_1 year', 'Home loans_5 years',\n",
              "       'Home loans_6 months', 'Home loans_Floating Rate',\n",
              "       'Home loans_Flexible Rate', 'Person Loans'], dtype=object)"
            ]
          },
          "metadata": {},
          "execution_count": 8
        }
      ]
    },
    {
      "cell_type": "code",
      "source": [
        "combined_loan_df = combined_loan_df.replace('Home loans_Flexible Rate', 'ANZ Flexible Home Loan')"
      ],
      "metadata": {
        "id": "5r7vwWmERzGQ"
      },
      "execution_count": 9,
      "outputs": []
    },
    {
      "cell_type": "code",
      "source": [
        "combined_loan_df = combined_loan_df.replace(['Home loans_2 years', 'Home loans_4 years', 'Home loans_3 years',\n",
        "       'Home loans_18 months', 'Home loans_1 year', 'Home loans_5 years',\n",
        "       'Home loans_6 months', 'Home loans_Floating Rate'], 'Home Loan')"
      ],
      "metadata": {
        "id": "ua0dVkocSW1U"
      },
      "execution_count": 10,
      "outputs": []
    },
    {
      "cell_type": "code",
      "source": [
        "combined_loan_df = combined_loan_df.replace('Person Loans', 'Person Loan')"
      ],
      "metadata": {
        "id": "LaZeWklNS4EM"
      },
      "execution_count": 11,
      "outputs": []
    },
    {
      "cell_type": "code",
      "source": [
        "combined_loan_df.Product_Type.unique()"
      ],
      "metadata": {
        "colab": {
          "base_uri": "https://localhost:8080/"
        },
        "id": "S2afkPgqSqjU",
        "outputId": "6955e151-b46e-4101-e3b1-45db5886930a"
      },
      "execution_count": 12,
      "outputs": [
        {
          "output_type": "execute_result",
          "data": {
            "text/plain": [
              "array(['Home Loan', 'ANZ Flexible Home Loan', 'Person Loan'], dtype=object)"
            ]
          },
          "metadata": {},
          "execution_count": 12
        }
      ]
    },
    {
      "cell_type": "code",
      "source": [
        "from difflib import get_close_matches\n",
        "\n",
        "transaction_types = list(combined_loan_df[\"Transaction_Type\"].unique())\n",
        "transaction_to_fee_name = {}\n",
        "\n",
        "for fee in normalized_fees:\n",
        "    product = fee.get(\"product_type\", \"\").strip()\n",
        "    fee_name = fee.get(\"fee_name\", \"\").strip()\n",
        "\n",
        "    # Try to find closest matching Transaction_Type\n",
        "    match = get_close_matches(fee_name, transaction_types, n=1, cutoff=0.6)\n",
        "    if match:\n",
        "        transaction_type = match[0]\n",
        "        transaction_to_fee_name[(product, transaction_type)] = fee_name\n"
      ],
      "metadata": {
        "id": "RbFw7Q20WDKS"
      },
      "execution_count": 15,
      "outputs": []
    },
    {
      "cell_type": "code",
      "source": [
        "print(\"Auto-generated mapping:\")\n",
        "for k, v in transaction_to_fee_name.items():\n",
        "    print(f\"{k} → {v}\")\n"
      ],
      "metadata": {
        "colab": {
          "base_uri": "https://localhost:8080/"
        },
        "id": "gkOfId6_WDG8",
        "outputId": "e3d73999-48b6-4e5b-e5d8-11bf43769179"
      },
      "execution_count": 17,
      "outputs": [
        {
          "output_type": "stream",
          "name": "stdout",
          "text": [
            "Auto-generated mapping:\n",
            "('Home Loan', 'Early Repayment Fee') → Early Repayment Recovery\n",
            "('ANZ Flexible Home Loan', 'Monthly Account Fee') → Monthly account fee\n"
          ]
        }
      ]
    },
    {
      "cell_type": "code",
      "source": [
        "def apply_fee_info(row):\n",
        "    product_type = row.get(\"Product_Type\", \"\").strip()\n",
        "    trans_type = row.get(\"Transaction_Type\", \"\").strip()\n",
        "\n",
        "    fee_name = transaction_to_fee_name.get((product_type, trans_type))\n",
        "    if not fee_name:\n",
        "        return None\n",
        "\n",
        "    fee_key = (product_type, fee_name)\n",
        "    fee_info = fee_lookup.get(fee_key)\n",
        "\n",
        "    if fee_info:\n",
        "        return fee_info.get(\"amount\")\n",
        "    return None\n"
      ],
      "metadata": {
        "id": "lMr2YS0iKn9p"
      },
      "execution_count": 18,
      "outputs": []
    },
    {
      "cell_type": "code",
      "source": [
        "combined_loan_df[\"Fee_Amount\"] = combined_loan_df.apply(apply_fee_info, axis=1)\n"
      ],
      "metadata": {
        "id": "pMzyLkcdKqND"
      },
      "execution_count": 19,
      "outputs": []
    },
    {
      "cell_type": "code",
      "source": [
        "matched = combined_loan_df.dropna(subset=[\"Fee_Amount\"])\n",
        "\n",
        "fee_summary = matched.groupby(\"Product_Type\")[\"Fee_Amount\"].sum().reset_index()\n",
        "print(fee_summary)\n"
      ],
      "metadata": {
        "colab": {
          "base_uri": "https://localhost:8080/"
        },
        "id": "k6KAnKXoTZyp",
        "outputId": "0a49c881-9dbd-493f-f3c1-1725c2964541"
      },
      "execution_count": 20,
      "outputs": [
        {
          "output_type": "stream",
          "name": "stdout",
          "text": [
            "             Product_Type  Fee_Amount\n",
            "0  ANZ Flexible Home Loan    103500.0\n"
          ]
        }
      ]
    }
  ]
}