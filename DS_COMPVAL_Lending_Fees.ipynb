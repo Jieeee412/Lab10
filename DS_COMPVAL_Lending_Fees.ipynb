{
  "nbformat": 4,
  "nbformat_minor": 0,
  "metadata": {
    "colab": {
      "provenance": [],
      "authorship_tag": "ABX9TyPSc4C7epLLZNiMOCuuBXvN",
      "include_colab_link": true
    },
    "kernelspec": {
      "name": "python3",
      "display_name": "Python 3"
    },
    "language_info": {
      "name": "python"
    }
  },
  "cells": [
    {
      "cell_type": "markdown",
      "metadata": {
        "id": "view-in-github",
        "colab_type": "text"
      },
      "source": [
        "<a href=\"https://colab.research.google.com/github/Jieeee412/Lab10/blob/main/DS_COMPVAL_Lending_Fees.ipynb\" target=\"_parent\"><img src=\"https://colab.research.google.com/assets/colab-badge.svg\" alt=\"Open In Colab\"/></a>"
      ]
    },
    {
      "cell_type": "code",
      "source": [
        "!pip install --upgrade pymupdf"
      ],
      "metadata": {
        "colab": {
          "base_uri": "https://localhost:8080/"
        },
        "id": "B2t1QP-rdJ2L",
        "outputId": "c84d9673-c85a-439e-fcf1-46f8b7583f1a"
      },
      "execution_count": 3,
      "outputs": [
        {
          "output_type": "stream",
          "name": "stdout",
          "text": [
            "Collecting pymupdf\n",
            "  Downloading pymupdf-1.25.5-cp39-abi3-manylinux2014_x86_64.manylinux_2_17_x86_64.whl.metadata (3.4 kB)\n",
            "Downloading pymupdf-1.25.5-cp39-abi3-manylinux2014_x86_64.manylinux_2_17_x86_64.whl (20.0 MB)\n",
            "\u001b[2K   \u001b[90m━━━━━━━━━━━━━━━━━━━━━━━━━━━━━━━━━━━━━━━━\u001b[0m \u001b[32m20.0/20.0 MB\u001b[0m \u001b[31m88.6 MB/s\u001b[0m eta \u001b[36m0:00:00\u001b[0m\n",
            "\u001b[?25hInstalling collected packages: pymupdf\n",
            "Successfully installed pymupdf-1.25.5\n"
          ]
        }
      ]
    },
    {
      "cell_type": "code",
      "source": [
        "import fitz  # PyMuPDF\n",
        "\n",
        "pdf_path = \"/content/Lending fees_7.pdf\"\n",
        "doc = fitz.open(pdf_path)\n",
        "\n",
        "# Extract text by page\n",
        "page_texts = {}\n",
        "\n",
        "for i in range(len(doc)):\n",
        "    text = doc.load_page(i).get_text()\n",
        "    page_texts[f\"page_{i+1}\"] = text.strip()\n"
      ],
      "metadata": {
        "id": "Q_14gpepjNmV"
      },
      "execution_count": 83,
      "outputs": []
    },
    {
      "cell_type": "code",
      "source": [
        "import requests\n",
        "import json\n",
        "import time\n",
        "\n",
        "# === CONFIGURATION ===\n",
        "\n",
        "api_key = \"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\"\n",
        "model_id = \"deepseek/deepseek-r1-zero:free\"\n",
        "output_file = \"Lending fees 7.json\"\n",
        "deepseek_outputs = {}\n",
        "\n",
        "# === Prompt Template ===\n",
        "#def build_prompt(page_text):\n",
        "    #return (\n",
        "        #\"You are an intelligent document parser. Based on the following banking fee document content, \"\n",
        "        #\"extract all product types and their associated fees in structured JSON format. \"\n",
        "        #\"Exclude entries like 'no charge', 'none', or 'free'.\\n\\n\"\n",
        "        #f\"{page_text}\\n\\n\"\n",
        "        #\"Format your response like this:\\n\"\n",
        "        #\"{\\n  \\\"credit card\\\": {\\\"Annual Fee\\\": \\\"$120\\\"},\\n  \\\"everyday account\\\": {\\\"ATM Fee\\\": \\\"$2\\\"}\\n}\"\n",
        "    #)\n",
        "\n",
        "def build_prompt(page_text):\n",
        "    return (\n",
        "        f\"\"\"\n",
        "You are a financial data extraction assistant.\n",
        "\n",
        "From the following page text, extract all **lending-related fees** as structured JSON.\n",
        "\n",
        "For each fee, include the following fields:\n",
        "- `fee_name`\n",
        "- `product_type`\n",
        "- `amount` (e.g., 12.5 or null for \"no charge\")\n",
        "- `unit` (\"NZD\", \"%\", or \"variable\")\n",
        "- `charge_timing` (e.g., \"monthly\", \"once-off\", \"event-based\")\n",
        "- `conditions` (optional explanation if provided)\n",
        "\n",
        "Return a **JSON array**, grouped logically by `product_type`.\n",
        "\n",
        "---\n",
        "PAGE TEXT:\n",
        "\\\"\\\"\\\"\n",
        "{page_text}\n",
        "\\\"\\\"\\\"\n",
        "\"\"\"\n",
        "    )\n",
        "\n",
        "# === DeepSeek Query Function ===\n",
        "def query_deepseek(prompt):\n",
        "    url = \"https://openrouter.ai/api/v1/chat/completions\"\n",
        "    headers = {\n",
        "        \"Authorization\": f\"Bearer {api_key}\",\n",
        "        \"Content-Type\": \"application/json\"\n",
        "    }\n",
        "    payload = {\n",
        "        \"model\": model_id,\n",
        "        \"messages\": [{\"role\": \"user\", \"content\": prompt}]\n",
        "    }\n",
        "\n",
        "    response = requests.post(url, headers=headers, json=payload)\n",
        "    if response.ok:\n",
        "        return response.json()[\"choices\"][0][\"message\"][\"content\"]\n",
        "    else:\n",
        "        return f\" Error {response.status_code}: {response.text}\"\n",
        "\n",
        "# === Run for All Pages ===\n",
        "for page_name, page_text in page_texts.items():\n",
        "    print(f\" Processing {page_name}...\")\n",
        "    prompt = build_prompt(page_text)\n",
        "    response = query_deepseek(prompt)\n",
        "    deepseek_outputs[page_name] = response\n",
        "    time.sleep(1)\n",
        "\n",
        "# === Save Results ===\n",
        "with open(output_file, \"w\") as f:\n",
        "    json.dump(deepseek_outputs, f, indent=2)\n",
        "\n",
        "print(f\"\\n All pages processed. Results saved to '{output_file}'\")\n"
      ],
      "metadata": {
        "colab": {
          "base_uri": "https://localhost:8080/"
        },
        "id": "7RIx9xdDdXzb",
        "outputId": "36749af3-0a7c-4924-870e-dc7725cff3a1"
      },
      "execution_count": 9,
      "outputs": [
        {
          "output_type": "stream",
          "name": "stdout",
          "text": [
            " Processing page_1...\n",
            "\n",
            " All pages processed. Results saved to 'Lending fees 7.json'\n"
          ]
        }
      ]
    },
    {
      "cell_type": "code",
      "source": [
        "import json\n",
        "\n",
        "with open(\"Lending fees 7.json\", \"r\") as f:\n",
        "    all_pages = json.load(f)\n",
        "\n",
        "# View one specific page (e.g., page 1)\n",
        "print(all_pages['page_1'])\n"
      ],
      "metadata": {
        "colab": {
          "base_uri": "https://localhost:8080/"
        },
        "id": "84fqab9E3Ytj",
        "outputId": "80add5b4-4b69-4d20-9fc4-f954557d3916"
      },
      "execution_count": 10,
      "outputs": [
        {
          "output_type": "stream",
          "name": "stdout",
          "text": [
            "\\boxed{\n",
            "```json\n",
            "[\n",
            "    {\n",
            "        \"product_type\": \"Home Loan\",\n",
            "        \"fees\": [\n",
            "            {\n",
            "                \"fee_name\": \"Application fee (owner-occupied)\",\n",
            "                \"amount\": null,\n",
            "                \"unit\": \"NZD\",\n",
            "                \"charge_timing\": \"once-off\",\n",
            "                \"conditions\": \"no charge\"\n",
            "            },\n",
            "            {\n",
            "                \"fee_name\": \"Application fee (all other lending)\",\n",
            "                \"amount\": null,\n",
            "                \"unit\": \"NZD\",\n",
            "                \"charge_timing\": \"once-off\",\n",
            "                \"conditions\": \"no charge\"\n",
            "            },\n",
            "            {\n",
            "                \"fee_name\": \"Loan Top Up fees\",\n",
            "                \"amount\": null,\n",
            "                \"unit\": \"NZD\",\n",
            "                \"charge_timing\": \"once-off\",\n",
            "                \"conditions\": \"no charge\"\n",
            "            },\n",
            "            {\n",
            "                \"fee_name\": \"Tideover application/extension fee\",\n",
            "                \"amount\": null,\n",
            "                \"unit\": \"NZD\",\n",
            "                \"charge_timing\": \"once-off\",\n",
            "                \"conditions\": \"no charge\"\n",
            "            },\n",
            "            {\n",
            "                \"fee_name\": \"Early Repayment Recovery\",\n",
            "                \"amount\": \"variable\",\n",
            "                \"unit\": \"NZD\",\n",
            "                \"charge_timing\": \"event-based\",\n",
            "                \"conditions\": \"depends on loss at the time of repayment\"\n",
            "            },\n",
            "            {\n",
            "                \"fee_name\": \"Reserving a fixed interest rate\",\n",
            "                \"amount\": null,\n",
            "                \"unit\": \"NZD\",\n",
            "                \"charge_timing\": \"once-off\",\n",
            "                \"conditions\": \"no charge\"\n",
            "            },\n",
            "            {\n",
            "                \"fee_name\": \"Non-utilisation fee (home lending)\",\n",
            "                \"amount\": 25,\n",
            "                \"unit\": \"NZD\",\n",
            "                \"charge_timing\": \"once-off\",\n",
            "                \"conditions\": \"applies if the reserved fixed interest rate is not utilized\"\n",
            "            },\n",
            "            {\n",
            "                \"fee_name\": \"Non-utilisation recovery (business lending)\",\n",
            "                \"amount\": \"variable\",\n",
            "                \"unit\": \"NZD\",\n",
            "                \"charge_timing\": \"event-based\",\n",
            "                \"conditions\": \"depends on loss at the time of cancellation or restructure\"\n",
            "            }\n",
            "        ]\n",
            "    },\n",
            "    {\n",
            "        \"product_type\": \"ANZ Flexible Home Loan\",\n",
            "        \"fees\": [\n",
            "            {\n",
            "                \"fee_name\": \"Monthly account fee\",\n",
            "                \"amount\": 12.5,\n",
            "                \"unit\": \"NZD\",\n",
            "                \"charge_timing\": \"monthly\"\n",
            "            },\n",
            "            {\n",
            "                \"fee_name\": \"All transaction fees (including manual transactions)\",\n",
            "                \"amount\": null,\n",
            "                \"unit\": \"NZD\",\n",
            "                \"charge_timing\": \"per transaction\",\n",
            "                \"conditions\": \"no charge\"\n",
            "            },\n",
            "            {\n",
            "                \"fee_name\": \"Unarranged overdraft fee\",\n",
            "                \"amount\": 3,\n",
            "                \"unit\": \"NZD\",\n",
            "                \"charge_timing\": \"monthly\",\n",
            "                \"conditions\": \"applies if you exceed your approved overdraft limit or your account becomes overdrawn by more than $10 for more than one day\"\n",
            "            }\n",
            "        ]\n",
            "    },\n",
            "    {\n",
            "        \"product_type\": \"Personal Loan\",\n",
            "        \"fees\": [\n",
            "            {\n",
            "                \"fee_name\": \"Application fee (For new and top-up applications)\",\n",
            "                \"amount\": null,\n",
            "                \"unit\": \"NZD\",\n",
            "                \"charge_timing\": \"once-off\",\n",
            "                \"conditions\": \"no charge\"\n",
            "            }\n",
            "        ]\n",
            "    }\n",
            "]\n",
            "```}\n"
          ]
        }
      ]
    },
    {
      "cell_type": "code",
      "source": [
        "import json\n",
        "\n",
        "with open(\"Lending fees 8.json\", \"r\") as f:\n",
        "    all_pages = json.load(f)\n",
        "\n",
        "# View one specific page (e.g., page 1)\n",
        "print(all_pages['page_1'])"
      ],
      "metadata": {
        "colab": {
          "base_uri": "https://localhost:8080/"
        },
        "id": "wDHAmV4ANXjZ",
        "outputId": "7193beda-c5d7-4b34-c57d-93e71b19ad4b"
      },
      "execution_count": 11,
      "outputs": [
        {
          "output_type": "stream",
          "name": "stdout",
          "text": [
            "\\boxed{\n",
            "[\n",
            "    {\n",
            "        \"fee_name\": \"Discharge or Execution fee\",\n",
            "        \"product_type\": \"secured loans\",\n",
            "        \"amount\": 100,\n",
            "        \"unit\": \"NZD\",\n",
            "        \"charge_timing\": \"once-off\",\n",
            "        \"conditions\": \"Charged for transactions related to security such as discharge, partial discharge, or release of security or securities. Submitted execution requests need to be made at least two days before the settlement date unless an urgent settlement is arranged.\"\n",
            "    }\n",
            "]}\n"
          ]
        }
      ]
    }
  ]
}